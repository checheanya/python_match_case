{
  "cells": [
    {
      "cell_type": "code",
      "execution_count": null,
      "id": "23fb1b6b",
      "metadata": {
        "colab": {
          "base_uri": "https://localhost:8080/",
          "height": 38
        },
        "id": "23fb1b6b",
        "outputId": "6e87e05b-400f-4568-d6a6-7661910339ff"
      },
      "outputs": [
        {
          "output_type": "display_data",
          "data": {
            "text/plain": [
              "<IPython.core.display.HTML object>"
            ],
            "text/html": [
              "<marquee style='width: 60%; color: blue;'><b>Match! cAse! caSe! casE! </b></marquee>\n"
            ]
          },
          "metadata": {}
        }
      ],
      "source": [
        "%%html\n",
        "<marquee style='width: 60%; color: blue;'><b>Match! cAse! caSe! casE! </b></marquee>"
      ]
    },
    {
      "cell_type": "markdown",
      "id": "648e2d91",
      "metadata": {
        "id": "648e2d91"
      },
      "source": [
        "# Match-case statement in Python ✔\n",
        "\n",
        "Match-case statement is a new feature in **Python > 3.10**, that allows checking multiple conditions in one statement."
      ]
    },
    {
      "cell_type": "code",
      "execution_count": null,
      "id": "c39aee1c",
      "metadata": {
        "colab": {
          "base_uri": "https://localhost:8080/"
        },
        "id": "c39aee1c",
        "outputId": "cfdb789b-31b3-4653-d497-a6f84c2b5b15"
      },
      "outputs": [
        {
          "output_type": "stream",
          "name": "stdout",
          "text": [
            "Python 3.10.11\n"
          ]
        }
      ],
      "source": [
        "!python --version"
      ]
    },
    {
      "cell_type": "markdown",
      "id": "62dd2fea",
      "metadata": {
        "id": "62dd2fea"
      },
      "source": [
        "## Background 🤓\n",
        "\n",
        "If you know C/C++, you should be familiar with **Switch-case** statement, that looks like this:\n",
        "\n",
        "```C++\n",
        "int day = 4;\n",
        "switch (day) {\n",
        "  case 6:\n",
        "    cout << \"Today is Saturday\";\n",
        "    break;\n",
        "  case 7:\n",
        "    cout << \"Today is Sunday\";\n",
        "    break;\n",
        "  default:\n",
        "    cout << \"Looking forward to the Weekend\";\n",
        "}\n",
        "// Outputs \"Looking forward to the Weekend\"\n",
        "```\n",
        "\n",
        "It allows to check entry statement to several possible conditions. Here *switch* line is read once and then given value is tested against each condition started with *case*. Then the variable from the *switch* statement is compared one by one to **constants** in *case* construction **one by one** (must be the same data type), until *break* or end of the statement.\n",
        "\n",
        "As in the example ***default*** line can be used as *else*, being executed if value didn't satisfy any cases above.\n",
        "\n",
        "## Alternatives in Python\n",
        "\n",
        "Previously, to account to multiple conditions in one block of code in Python you would have to write multiple **```if - else```** statements. The obvious drowback of this way of checking conditions is that sometimes it is hard to determine the end of one block of conditions and start of another. The walkaround is to create a nested condition check, which also does not seem to be quite convenient.\n",
        "\n",
        "In case of testing many constants, the classical approach was to create and call the **dictionary**:"
      ]
    },
    {
      "cell_type": "code",
      "source": [
        "def numbers_to_strings(argument):\n",
        "\tswitcher = {\n",
        "\t\t0: \"zero\",\n",
        "\t\t1: \"one\",\n",
        "\t\t2: \"two\",\n",
        "\t}\n",
        "\n",
        "\t# return value or the key=argument if it exists, second default value otherwise\n",
        "\treturn switcher.get(argument, \"nothing\")\n",
        "\n",
        "argument = 0\n",
        "print(numbers_to_strings(argument))"
      ],
      "metadata": {
        "colab": {
          "base_uri": "https://localhost:8080/"
        },
        "id": "cL801C4TI344",
        "outputId": "8daef9bc-88a0-4ac4-bddc-1a516b566f68"
      },
      "id": "cL801C4TI344",
      "execution_count": null,
      "outputs": [
        {
          "output_type": "stream",
          "name": "stdout",
          "text": [
            "zero\n"
          ]
        }
      ]
    },
    {
      "cell_type": "markdown",
      "source": [
        "Or **```if - elif - else```** statements:"
      ],
      "metadata": {
        "id": "FdIWXuMyPpPD"
      },
      "id": "FdIWXuMyPpPD"
    },
    {
      "cell_type": "code",
      "source": [
        "number = \"zero\"\n",
        " \n",
        "if number == \"zero\":\n",
        "    print('bublik s dirkoi')\n",
        "elif number == \"one\":\n",
        "    print(\"kol\")\n",
        "elif number == \"two\":\n",
        "    print(\"lebed'\")\n",
        "else:\n",
        "    print(\"guess assosiation yourself .\\/. !\")"
      ],
      "metadata": {
        "colab": {
          "base_uri": "https://localhost:8080/"
        },
        "id": "LLdCHXQJPplx",
        "outputId": "58b92dd4-9b32-4120-94af-aa25433e77b7"
      },
      "id": "LLdCHXQJPplx",
      "execution_count": null,
      "outputs": [
        {
          "output_type": "stream",
          "name": "stdout",
          "text": [
            "bublik s dirkoi\n"
          ]
        }
      ]
    },
    {
      "cell_type": "markdown",
      "source": [
        "Or ever writing switch statement as a **class**...:"
      ],
      "metadata": {
        "id": "kK5UfV0dTDrL"
      },
      "id": "kK5UfV0dTDrL"
    },
    {
      "cell_type": "code",
      "source": [
        "class swith_class:\n",
        "    def day(self, day):\n",
        "        default = \"another day\"\n",
        "        return getattr(self, 'case_' + str(day), lambda: default)()\n",
        "    def case_1(self):\n",
        "        return \"Mon\"\n",
        "    def case_2(self):\n",
        "        return \"Tue\"\n",
        "    def case_3(self):\n",
        "        return \"Wed\"\n",
        " \n",
        "switch = swith_class() \n",
        "print(switch.day(1))"
      ],
      "metadata": {
        "colab": {
          "base_uri": "https://localhost:8080/"
        },
        "id": "AercHVAZTOx7",
        "outputId": "17bca12e-4008-455a-b98b-5fa6642e3fb3"
      },
      "id": "AercHVAZTOx7",
      "execution_count": null,
      "outputs": [
        {
          "output_type": "stream",
          "name": "stdout",
          "text": [
            "Mon\n"
          ]
        }
      ]
    },
    {
      "cell_type": "markdown",
      "source": [
        "## Match-case in Python, even better than Switch 🐍\n",
        "\n",
        "So basically match-case statement in Python is more advanced version of Switch statement, where we can check not only constant conditions but more **complex expressions**.\n",
        "\n",
        "First, let's have a look at the simple match-case code:"
      ],
      "metadata": {
        "id": "AKc26rR2HWTV"
      },
      "id": "AKc26rR2HWTV"
    },
    {
      "cell_type": "code",
      "execution_count": null,
      "id": "7940cfef",
      "metadata": {
        "colab": {
          "base_uri": "https://localhost:8080/"
        },
        "id": "7940cfef",
        "outputId": "e2ecd6b7-a866-4df9-cd27-e2a53cbc0529"
      },
      "outputs": [
        {
          "output_type": "stream",
          "name": "stdout",
          "text": [
            "Hi Dog!\n"
          ]
        }
      ],
      "source": [
        "hey_sound = 'Woof woof'\n",
        "match hey_sound:\n",
        "    case 'Woof woof':\n",
        "        print('Hi Dog!')\n",
        "    case 'Meow meow':\n",
        "        print('Hi Cat!')\n",
        "    case other:\n",
        "        print('Hi unknown animal!')"
      ]
    },
    {
      "cell_type": "markdown",
      "source": [
        "It can be used for many different situations, especially when we have to handle multiple signals of errors differently. For example, the most common usage is html return statuses handling:"
      ],
      "metadata": {
        "id": "qMkRw7mIxTCG"
      },
      "id": "qMkRw7mIxTCG"
    },
    {
      "cell_type": "code",
      "source": [
        "def http_status(status):\n",
        "    match status:\n",
        "        case 400:\n",
        "            return \"Bad request\"\n",
        "        case 401:\n",
        "            return \"Unauthorized\"\n",
        "        case 403:\n",
        "            return \"Forbidden\"\n",
        "        case 404:\n",
        "            return \"Not found\""
      ],
      "metadata": {
        "id": "LJyPC-d7xSYi"
      },
      "id": "LJyPC-d7xSYi",
      "execution_count": null,
      "outputs": []
    },
    {
      "cell_type": "markdown",
      "id": "52d5f910",
      "metadata": {
        "id": "52d5f910"
      },
      "source": [
        "Here we defined the variable *hey_sound* that is being checked against three case statements. If match is found, code inside the corresponding *case* line is executed. Otherwise, code enters \"other\" block.\n",
        "\n",
        "The wildcard ***other*** can be used as ***default*** in switch satatment, catching all cases when condition did not fall under any of preseeding conditions. It can be also written in the shorter way as **``` case _ ```**:"
      ]
    },
    {
      "cell_type": "code",
      "execution_count": null,
      "id": "f4c23f62",
      "metadata": {
        "colab": {
          "base_uri": "https://localhost:8080/"
        },
        "id": "f4c23f62",
        "outputId": "94d66899-63bd-4473-9938-5a7fb86fac1e"
      },
      "outputs": [
        {
          "output_type": "stream",
          "name": "stdout",
          "text": [
            "Hi unknown animal!\n"
          ]
        }
      ],
      "source": [
        "hey_sound = 'Privet'\n",
        "match hey_sound:\n",
        "    case 'Woof woof':\n",
        "        print('Hi Dog!')\n",
        "    case 'Meow meow':\n",
        "        print('Hi Cat!')\n",
        "    case _:\n",
        "        print('Hi unknown animal!')"
      ]
    },
    {
      "cell_type": "markdown",
      "id": "a60a0894",
      "metadata": {
        "id": "a60a0894"
      },
      "source": [
        "It is important to mention that *case* and *match* are treated as “soft” keywords, which means they only work as keywords in this particular statement. Thus we can freely use *case* and *match* as variable names in other parts of the code:"
      ]
    },
    {
      "cell_type": "code",
      "source": [
        "day = 'Mon'\n",
        "match hey_sound:\n",
        "    case 'Mon':\n",
        "        print('Have a great start of the week!')\n",
        "    case 'Tue':\n",
        "        print('Just a bit left!')\n",
        "    case other:\n",
        "        print('Approaching the weekend!')\n",
        "\n",
        "case = 2\n",
        "match = 'two'\n",
        "print(f'{case} is {match}')"
      ],
      "metadata": {
        "colab": {
          "base_uri": "https://localhost:8080/"
        },
        "id": "3wvmK7CCHVe3",
        "outputId": "3cbf063d-682d-47b6-db13-14420f2c27e1"
      },
      "id": "3wvmK7CCHVe3",
      "execution_count": null,
      "outputs": [
        {
          "output_type": "stream",
          "name": "stdout",
          "text": [
            "Approaching the weekend!\n",
            "2 is two\n"
          ]
        }
      ]
    },
    {
      "cell_type": "markdown",
      "id": "64f01957",
      "metadata": {
        "id": "64f01957"
      },
      "source": [
        "### Match-case statement with more complicated conditions\n",
        "\n",
        "1. Within one *case* statement we can check several values by writing them with **OR `|`** symbol:"
      ]
    },
    {
      "cell_type": "code",
      "source": [
        "hey_sound = 'Privet'\n",
        "match hey_sound:\n",
        "    case 'Woof woof' | 'Privet' | 'Meow meow':     # <-----\n",
        "        print('mammal is saying something')\n",
        "    case 'Kwa kwa':\n",
        "        print('seems like amphibia')\n",
        "    case _:\n",
        "        print('Hi unknown animal!')"
      ],
      "metadata": {
        "colab": {
          "base_uri": "https://localhost:8080/"
        },
        "id": "hkc_vW7GVist",
        "outputId": "a83f378f-203d-48e6-e082-dd9e0567db31"
      },
      "id": "hkc_vW7GVist",
      "execution_count": null,
      "outputs": [
        {
          "output_type": "stream",
          "name": "stdout",
          "text": [
            "mammal is saying something\n"
          ]
        }
      ]
    },
    {
      "cell_type": "markdown",
      "source": [
        "2. We can also use ***if*** inside the case statement that adds additional condition that is evaluated after first value matched successfuly. For example, let's imagine we have a database with different levels of access for\n",
        "different classes of users. If in addition to name we want to check whether the person is in the list, we can add ***if*** clause:"
      ],
      "metadata": {
        "id": "-wXL9l3EWrdE"
      },
      "id": "-wXL9l3EWrdE"
    },
    {
      "cell_type": "code",
      "source": [
        "def provideAccess(user):\n",
        "    return {\"username\": user, \"password\": \"your_pswd\"}\n",
        "\n",
        "def runMatch():\n",
        "    user = str(input(\"Write your username -: \"))\n",
        "    allowedDataBaseUsers = [\"Ivan\", \"Alisa\"]\n",
        "    match user:\n",
        "        case \"Alisa\" if user in allowedDataBaseUsers:            #  <-----\n",
        "            print(\"You are allowed to access the database !\")\n",
        "            data = provideAccess(\"Alisa\")\n",
        "            print(data)\n",
        "        case _:\n",
        "            print(\"You are not allowed to access the database !\")\n",
        "\n",
        "for _ in range(2):\n",
        "  runMatch()"
      ],
      "metadata": {
        "colab": {
          "base_uri": "https://localhost:8080/"
        },
        "id": "FnVbGvrDWePo",
        "outputId": "51a92760-b5f2-4862-d3ca-7e9789d6934d"
      },
      "id": "FnVbGvrDWePo",
      "execution_count": null,
      "outputs": [
        {
          "output_type": "stream",
          "name": "stdout",
          "text": [
            "Write your username -: Anna\n",
            "You are not allowed to access the database !\n",
            "Write your username -: Alisa\n",
            "You are allowed to access the database !\n",
            "{'username': 'Alisa', 'password': 'your_pswd'}\n"
          ]
        }
      ]
    },
    {
      "cell_type": "markdown",
      "source": [
        "3. Some arguments from the given value can be packed using asterisk `*` **bold text** as in the functions when we use `*args`. In this case all input arguments will be **packed** into `*flag`, that we can later use inside the *case* block. It provides an oppotrunity not only work with larger lists but also to match specific patterns.\n",
        "\n",
        "When using this functionality it is important to keep in mind that *case* conditions are checked consequently. So even if there are several matching cases, only the first one will be evaluated.  "
      ],
      "metadata": {
        "id": "aSDFb0bwZLJx"
      },
      "id": "aSDFb0bwZLJx"
    },
    {
      "cell_type": "code",
      "execution_count": null,
      "id": "d7b125ae",
      "metadata": {
        "colab": {
          "base_uri": "https://localhost:8080/"
        },
        "id": "d7b125ae",
        "outputId": "cdc924ee-e2ce-4900-f6cd-18af75889290"
      },
      "outputs": [
        {
          "output_type": "stream",
          "name": "stdout",
          "text": [
            "The list only contains a and is just a single list\n",
            "The 'a' is the first element, rest of elems:\n",
            "b\n",
            "The 'a' is the first element, rest of elems:\n",
            "b\n",
            "c\n",
            "d\n",
            "The 'd' is the last and has ['b', 'c'] before!\n"
          ]
        }
      ],
      "source": [
        "def math_func(data_input):\n",
        "    match data_input:\n",
        "        case[\"a\"]:\n",
        "            print(\"The list only contains a and is just a single list\")\n",
        " \n",
        "        case[\"a\", *other_items]:      # <-----\n",
        "            print(f\"The 'a' is the first element, rest of elems:\")\n",
        "            for el in other_items:\n",
        "              print(el)\n",
        "\n",
        "        case[*first_items, \"d\"] | (*first_items, \"d\"):       # <----- here we want to catch 2-elem tuples as well\n",
        "            print(f\"The 'd' is the last and has {first_items} before!\")\n",
        " \n",
        "        case  _:\n",
        "            print(\"No case matches with this one!\")\n",
        " \n",
        " \n",
        "math_func([\"a\"])   # list with only one elem\n",
        "math_func((\"a\", \"b\"))   # tuple!\n",
        "math_func([\"a\", \"b\", \"c\", \"d\"])   # list that follows the 1st pattern\n",
        "math_func([\"b\", \"c\", \"d\"])   # list that follows the 2nd pattern"
      ]
    },
    {
      "cell_type": "markdown",
      "source": [
        "Patterns then can be more complicated, for example, containing another pattern 🤯. Example:"
      ],
      "metadata": {
        "id": "UdDcku5tx9nE"
      },
      "id": "UdDcku5tx9nE"
    },
    {
      "cell_type": "code",
      "source": [
        "def alarm(item):\n",
        "    match item:\n",
        "        case [('morning' | 'afternoon' | 'evening'), action]:\n",
        "            print(f'Good {item[0]}! It is time to {action}!')\n",
        "        # OR we can extract elements from item with AS:\n",
        "        # case [('morning' | 'afternoon' | 'evening') as time, action]:\n",
        "        #    print(f'Good {time}! It is time to {action}!')\n",
        "        case _:\n",
        "            print('The time is invalid.')"
      ],
      "metadata": {
        "id": "HCSZvkObySC_"
      },
      "id": "HCSZvkObySC_",
      "execution_count": 6,
      "outputs": []
    },
    {
      "cell_type": "code",
      "source": [
        "alarm(['morning', 'shine'])"
      ],
      "metadata": {
        "colab": {
          "base_uri": "https://localhost:8080/"
        },
        "id": "i50HaQtHyVzo",
        "outputId": "e0bdf695-5a4a-4878-979b-6542dde8a3da"
      },
      "id": "i50HaQtHyVzo",
      "execution_count": 7,
      "outputs": [
        {
          "output_type": "stream",
          "name": "stdout",
          "text": [
            "Good morning! It is time to shine!\n"
          ]
        }
      ]
    },
    {
      "cell_type": "markdown",
      "source": [
        "\n",
        "4. So far we have seen only lists, strings and tuples used in the *case* condition, however, it can check more complicated types as well. For example, let's have a look at **dictionaries**: "
      ],
      "metadata": {
        "id": "VpTN7vCYViDr"
      },
      "id": "VpTN7vCYViDr"
    },
    {
      "cell_type": "code",
      "execution_count": 13,
      "id": "033118fe",
      "metadata": {
        "id": "033118fe",
        "colab": {
          "base_uri": "https://localhost:8080/"
        },
        "outputId": "c967fe18-2935-4bbc-a6d4-5d06775f2949"
      },
      "outputs": [
        {
          "output_type": "stream",
          "name": "stdout",
          "text": [
            "This matches only for one key , that is if they key exists with the pair value then this block will be selected !\n",
            "This one matches multiple keys and values . !\n",
            "The person's name is Ivan, the language he uses is C++ and the framework he uses is Django !\n"
          ]
        }
      ],
      "source": [
        "def runMatch(dictionary):\n",
        "    match dictionary:\n",
        "        case {\"name\": \"John\"}:\n",
        "            print(\"This matches only for one key , that is if they key exists with the pair value then this block will be selected !\")\n",
        " \n",
        "        case {\"framework\": \"Django\", \"language\": \"Python\"}:\n",
        "            print(\"This one matches multiple keys and values . !\")\n",
        " \n",
        "        case {\"name\": name, \"language\": language,\n",
        "              \"framework\": framework}:\n",
        "            print(f\"The person's name is {name}, the language he uses is {language} and the framework he uses is {framework} !\")\n",
        " \n",
        "        case _:\n",
        "            print(\"Matches anything !\")\n",
        " \n",
        " \n",
        "if __name__ == \"__main__\":\n",
        "    a = {\n",
        "        \"name\": \"John\",\n",
        "        \"language\": \"Python\",\n",
        "        \"framework\": \"Django\",\n",
        "    }\n",
        "    runMatch(a)\n",
        "    a[\"name\"] = \"Ivan\"\n",
        "    runMatch(a)\n",
        "    a[\"language\"] = \"C++\"\n",
        "    runMatch(a)"
      ]
    },
    {
      "cell_type": "markdown",
      "source": [
        "5. Apart from it match-case statement can be used to **check class objects** for having their attributes equal to sertain values. Below we have an example of simple class describing directions on x and y, and we use match-case statement to convert them to sides of the world:\n"
      ],
      "metadata": {
        "id": "5ws-cIv0iie8"
      },
      "id": "5ws-cIv0iie8"
    },
    {
      "cell_type": "code",
      "source": [
        "class Direction:\n",
        "    def __init__(self, horizontal=None, vertical=None):\n",
        "        self.horizontal = horizontal\n",
        "        self.vertical = vertical"
      ],
      "metadata": {
        "id": "khnxqRdP0ZJD"
      },
      "id": "khnxqRdP0ZJD",
      "execution_count": 8,
      "outputs": []
    },
    {
      "cell_type": "code",
      "source": [
        "def direction(loc):\n",
        "    match loc:\n",
        "        case Direction(horizontal='east', vertical='north'):\n",
        "            print('You towards northeast')\n",
        "        case Direction(horizontal='east', vertical='south'):\n",
        "            print('You towards southeast')\n",
        "        case Direction(horizontal='west', vertical='north'):\n",
        "            print('You towards northwest')\n",
        "        case Direction(horizontal='west', vertical='south'):\n",
        "            print('You towards southwest')\n",
        "        case Direction(horizontal=None):\n",
        "            print(f'You towards {loc.vertical}')\n",
        "        case Direction(vertical=None):\n",
        "            print(f'You towards {loc.horizontal}')\n",
        "        case _:\n",
        "            print('Invalid Direction')"
      ],
      "metadata": {
        "id": "ALR0n_wx0Z_H"
      },
      "id": "ALR0n_wx0Z_H",
      "execution_count": 9,
      "outputs": []
    },
    {
      "cell_type": "code",
      "source": [
        "d1 = Direction('east', 'south')\n",
        "d2 = Direction(vertical='north')\n",
        "d3 = Direction('centre', 'centre')\n",
        "\n",
        "direction(d1)\n",
        "direction(d2)\n",
        "direction(d3)"
      ],
      "metadata": {
        "colab": {
          "base_uri": "https://localhost:8080/"
        },
        "id": "QlVuLo9h0dar",
        "outputId": "451c478d-779b-4558-ad6d-dfcc53fbc03c"
      },
      "id": "QlVuLo9h0dar",
      "execution_count": 11,
      "outputs": [
        {
          "output_type": "stream",
          "name": "stdout",
          "text": [
            "You towards southeast\n",
            "You towards north\n",
            "Invalid Direction\n"
          ]
        }
      ]
    },
    {
      "cell_type": "markdown",
      "id": "e203ea16",
      "metadata": {
        "id": "e203ea16"
      },
      "source": [
        "References:\n",
        "\n",
        "1. https://docs.python.org/3/whatsnew/3.10.html#pep-634-structural-pattern-matching\n",
        "2. https://www.geeksforgeeks.org/python-match-case-statement/\n",
        "3. https://learnpython.com/blog/python-match-case-statement/"
      ]
    }
  ],
  "metadata": {
    "kernelspec": {
      "display_name": "Python 3 (ipykernel)",
      "language": "python",
      "name": "python3"
    },
    "language_info": {
      "codemirror_mode": {
        "name": "ipython",
        "version": 3
      },
      "file_extension": ".py",
      "mimetype": "text/x-python",
      "name": "python",
      "nbconvert_exporter": "python",
      "pygments_lexer": "ipython3",
      "version": "3.9.0"
    },
    "colab": {
      "provenance": []
    }
  },
  "nbformat": 4,
  "nbformat_minor": 5
}